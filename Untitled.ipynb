{
 "cells": [
  {
   "cell_type": "code",
   "execution_count": 2,
   "metadata": {},
   "outputs": [
    {
     "data": {
      "text/plain": [
       "               _                           \n",
       "platform       x86_64-pc-linux-gnu         \n",
       "arch           x86_64                      \n",
       "os             linux-gnu                   \n",
       "system         x86_64, linux-gnu           \n",
       "status                                     \n",
       "major          3                           \n",
       "minor          4.1                         \n",
       "year           2017                        \n",
       "month          06                          \n",
       "day            30                          \n",
       "svn rev        72865                       \n",
       "language       R                           \n",
       "version.string R version 3.4.1 (2017-06-30)\n",
       "nickname       Single Candle               "
      ]
     },
     "metadata": {},
     "output_type": "display_data"
    }
   ],
   "source": [
    "R.version"
   ]
  },
  {
   "cell_type": "code",
   "execution_count": 3,
   "metadata": {},
   "outputs": [
    {
     "name": "stderr",
     "output_type": "stream",
     "text": [
      "also installing the dependencies ‘igraph’, ‘networkD3’\n",
      "\n",
      "Warning message in install.packages(\"DataExplorer\", repos = \"http://cran.us.r-project.org\"):\n",
      "“installation of package ‘igraph’ had non-zero exit status”Warning message in install.packages(\"DataExplorer\", repos = \"http://cran.us.r-project.org\"):\n",
      "“installation of package ‘networkD3’ had non-zero exit status”Warning message in install.packages(\"DataExplorer\", repos = \"http://cran.us.r-project.org\"):\n",
      "“installation of package ‘DataExplorer’ had non-zero exit status”Updating HTML index of packages in '.Library'\n",
      "Making 'packages.html' ... done\n"
     ]
    }
   ],
   "source": [
    "install.packages(\"DataExplorer\", repos = \"http://cran.us.r-project.org\")"
   ]
  }
 ],
 "metadata": {
  "kernelspec": {
   "display_name": "R",
   "language": "R",
   "name": "ir"
  },
  "language_info": {
   "codemirror_mode": "r",
   "file_extension": ".r",
   "mimetype": "text/x-r-source",
   "name": "R",
   "pygments_lexer": "r",
   "version": "3.4.1"
  }
 },
 "nbformat": 4,
 "nbformat_minor": 2
}
