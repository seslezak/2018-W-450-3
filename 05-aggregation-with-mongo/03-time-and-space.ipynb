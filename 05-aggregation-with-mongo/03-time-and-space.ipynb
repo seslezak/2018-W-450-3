{
 "cells": [
  {
   "cell_type": "code",
   "execution_count": null,
   "metadata": {},
   "outputs": [],
   "source": [
    "!pip install folium --quiet"
   ]
  },
  {
   "cell_type": "code",
   "execution_count": null,
   "metadata": {},
   "outputs": [],
   "source": [
    "import pandas as pd\n",
    "from pymongo import MongoClient\n",
    "\n",
    "%matplotlib inline\n",
    "\n",
    "mongo_client = MongoClient('34.215.106.7', 27016)\n",
    "database_reference = mongo_client.twitter"
   ]
  },
  {
   "cell_type": "markdown",
   "metadata": {},
   "source": [
    "| | | | | |\n",
    "|-|-|-|-|-|\n",
    "| `_id`        | `truncated`                 |`user`            |`extended_tweet` | `favorited`                   |\n",
    "| `created_at` | `in_reply_to_status_id`     |`geo`             |`quote_count`    | `retweeted`                   |\n",
    "| `id`         | `in_reply_to_status_id_str` |`coordinates`     |`reply_count`    | `filter_level`                |\n",
    "| `id_str`     | `in_reply_to_user_id`       |`place`           |`retweet_count`  | `lang`                        |\n",
    "| `text`       | `in_reply_to_user_id_str`   |`contributors`    |`favorite_count` | `timestamp_ms`                |\n",
    "| `source`     | `in_reply_to_screen_name`   |`is_quote_status` |`entities`       |                               |\n",
    "\n",
    "\n",
    "\n",
    "\n",
    "\n",
    "\n",
    "\n",
    "\n",
    "\n",
    "\n",
    "\n",
    "\n",
    "\n",
    "\n",
    "\n",
    "\n",
    "\n",
    "\n",
    "\n",
    "\n",
    "\n",
    "\n"
   ]
  },
  {
   "cell_type": "markdown",
   "metadata": {},
   "source": [
    "![](https://www.evernote.com/l/AAEO7gpKcKdI5YJeGrni4GhdlBiBWdTa3YgB/image.png)"
   ]
  },
  {
   "cell_type": "code",
   "execution_count": null,
   "metadata": {},
   "outputs": [],
   "source": [
    "collection_reference = database_reference.instructor_test_group"
   ]
  },
  {
   "cell_type": "code",
   "execution_count": null,
   "metadata": {},
   "outputs": [],
   "source": [
    "collection_reference.count()"
   ]
  },
  {
   "cell_type": "markdown",
   "metadata": {},
   "source": [
    "## Tweets By Day"
   ]
  },
  {
   "cell_type": "code",
   "execution_count": null,
   "metadata": {},
   "outputs": [],
   "source": [
    "date_from_string = {\"$dateFromString\" : { \"dateString\" : \"$created_at\"}}\n",
    "\n",
    "date_to_id = {\n",
    "    \"$project\": {\n",
    "        \"_id\" : 0,\n",
    "        \"year\" : {\"$year\": {\"date\" : date_from_string}},\n",
    "        \"month\" : {\"$month\": {\"date\" : date_from_string}},\n",
    "        \"day\" : {\"$dayOfMonth\": {\"date\" : date_from_string}},\n",
    "    }\n",
    "}\n",
    "\n",
    "group_by_date = {\n",
    "    \"$group\" : {\n",
    "        \"tweets\" : {\"$sum\" : 1},\n",
    "        \"_id\" : {\n",
    "            \"year\" : \"$year\",\n",
    "            \"month\" : \"$month\",\n",
    "            \"day\" : \"$day\"\n",
    "        },\n",
    "    }\n",
    "}\n",
    "\n"
   ]
  },
  {
   "cell_type": "code",
   "execution_count": null,
   "metadata": {},
   "outputs": [],
   "source": [
    "def dictionary_to_datestring(x):\n",
    "    month = x['month']\n",
    "    day = x['day']\n",
    "    year = x['year']\n",
    "    return \"{}-{}-{}\".format(month, day, year)"
   ]
  },
  {
   "cell_type": "code",
   "execution_count": null,
   "metadata": {
    "scrolled": true
   },
   "outputs": [],
   "source": [
    "cursor = collection_reference.aggregate([\n",
    "    date_to_id,\n",
    "    group_by_date\n",
    "])\n",
    "\n",
    "daily_tweets = pd.DataFrame(list(cursor))\n",
    "\n",
    "datestrings = daily_tweets['_id'].apply(dictionary_to_datestring)\n",
    "daily_tweets['date'] = pd.to_datetime(datestrings)\n",
    "\n",
    "daily_tweets.drop('_id', axis=1, inplace=True)\n",
    "daily_tweets.sort_values('date', inplace=True)\n",
    "daily_tweets.set_index('date', inplace=True)\n",
    "daily_tweets.plot()"
   ]
  },
  {
   "cell_type": "markdown",
   "metadata": {},
   "source": [
    "## Tweet Locations"
   ]
  },
  {
   "cell_type": "code",
   "execution_count": null,
   "metadata": {
    "scrolled": false
   },
   "outputs": [],
   "source": [
    "nonnull_geo = {'geo' : {'$ne' : None}}\n",
    "just_geo = {'geo' : 1}\n",
    "\n",
    "cursor = collection_reference.find(nonnull_geo, just_geo)\n",
    "cursor.count()"
   ]
  },
  {
   "cell_type": "code",
   "execution_count": null,
   "metadata": {},
   "outputs": [],
   "source": [
    "geo_tweets = pd.DataFrame(list(cursor))"
   ]
  },
  {
   "cell_type": "code",
   "execution_count": null,
   "metadata": {},
   "outputs": [],
   "source": [
    "def parse_geo_from_tweets(tweets):\n",
    "    geo = pd.DataFrame(list(tweets['geo'].values))\n",
    "    return geo"
   ]
  },
  {
   "cell_type": "code",
   "execution_count": null,
   "metadata": {},
   "outputs": [],
   "source": [
    "geo = parse_geo_from_tweets(geo_tweets)\n",
    "geo.sample(5)"
   ]
  },
  {
   "cell_type": "code",
   "execution_count": null,
   "metadata": {},
   "outputs": [],
   "source": [
    "import folium\n",
    "starting_loc = [34.0689, -118.4452]\n",
    "la_map = folium.Map(location=starting_loc, zoom_start=13)"
   ]
  },
  {
   "cell_type": "code",
   "execution_count": null,
   "metadata": {},
   "outputs": [],
   "source": [
    "for loc in geo.coordinates.values:\n",
    "    folium.Marker(loc).add_to(la_map)"
   ]
  },
  {
   "cell_type": "code",
   "execution_count": null,
   "metadata": {},
   "outputs": [],
   "source": [
    "la_map"
   ]
  }
 ],
 "metadata": {
  "kernelspec": {
   "display_name": "Python 3",
   "language": "python",
   "name": "python3"
  },
  "language_info": {
   "codemirror_mode": {
    "name": "ipython",
    "version": 3
   },
   "file_extension": ".py",
   "mimetype": "text/x-python",
   "name": "python",
   "nbconvert_exporter": "python",
   "pygments_lexer": "ipython3",
   "version": "3.6.3"
  }
 },
 "nbformat": 4,
 "nbformat_minor": 2
}
