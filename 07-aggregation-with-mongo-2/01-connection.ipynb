{
 "cells": [
  {
   "cell_type": "code",
   "execution_count": null,
   "metadata": {},
   "outputs": [],
   "source": [
    "from pymongo import MongoClient\n",
    "\n",
    "%matplotlib inline\n",
    "\n",
    "mongo_client = MongoClient('this-mongo.cc', 27016)\n",
    "database_reference = mongo_client.twitter"
   ]
  },
  {
   "cell_type": "code",
   "execution_count": null,
   "metadata": {},
   "outputs": [],
   "source": [
    "collection_reference = database_reference.instructor_test_group"
   ]
  },
  {
   "cell_type": "code",
   "execution_count": null,
   "metadata": {},
   "outputs": [],
   "source": [
    "collection_reference.count()"
   ]
  },
  {
   "cell_type": "markdown",
   "metadata": {},
   "source": [
    "## The Aggregation Pipeline\n",
    "\n",
    "A call to the aggregation framework defines a pipeline (figure 6.1), the **aggregation pipeline**, where the output from each step in the pipeline provides input to the next step. Each step executes a single operation on the input documents to transform the input and generate output documents."
   ]
  },
  {
   "cell_type": "markdown",
   "metadata": {},
   "source": [
    "![](https://www.evernote.com/l/AAGxerRxKLZNFrjqxlYK2HPz1R11tr95FFkB/image.png)"
   ]
  },
  {
   "cell_type": "markdown",
   "metadata": {},
   "source": [
    "### Useful Aggregation Pipeline Operations"
   ]
  },
  {
   "cell_type": "markdown",
   "metadata": {},
   "source": [
    "- `$project` // Specify fields to be placed in the output document.\n",
    "- `$match` // Select documents to be processed, similar to find().\n",
    "- `$limit` // Limit the number of documents to be passed to the next step.\n",
    "- `$skip` // Skip a specified number of documents.\n",
    "- `$unwind` // Expand an array, generating one output document for each array entry.\n",
    "- `$group` // Group documents by a specified key.\n",
    "- `$sort` // Sort documents.\n",
    "- `$geoNear` // Select documents near a geospatial location.\n",
    "- `$out` // Write the results of the pipeline to a collection (new in v2.6).\n",
    "- `$redact` // Control access to certain data (new in v2.6)."
   ]
  },
  {
   "cell_type": "code",
   "execution_count": null,
   "metadata": {},
   "outputs": [],
   "source": [
    "PROJECT = \"$project\"\n",
    "MATCH = \"$match\"\n",
    "LIMIT = \"$limit\"\n",
    "UNWIND = \"$unwind\"\n",
    "GROUP = \"$group\"\n",
    "SORT = \"$sort\"\n",
    "COUNT = \"$count\""
   ]
  },
  {
   "cell_type": "code",
   "execution_count": null,
   "metadata": {},
   "outputs": [],
   "source": [
    "test_group = database_reference.instructor_test_group"
   ]
  },
  {
   "cell_type": "code",
   "execution_count": null,
   "metadata": {},
   "outputs": [],
   "source": [
    "cur = test_group.aggregate([\n",
    "    { MATCH : { \"geo\" : { \"$ne\" : None }}},\n",
    "    { COUNT : \"geo\"}\n",
    "])"
   ]
  },
  {
   "cell_type": "code",
   "execution_count": null,
   "metadata": {},
   "outputs": [],
   "source": [
    "next(cur)"
   ]
  },
  {
   "cell_type": "code",
   "execution_count": null,
   "metadata": {},
   "outputs": [],
   "source": [
    "match_non_null_geo = { MATCH : { \"geo\" : { \"$ne\" : None }}}\n",
    "count_geo = { COUNT : \"geo\"}\n",
    "\n",
    "dag_count_non_null_geo = [\n",
    "    match_non_null_geo,\n",
    "    count_geo\n",
    "]"
   ]
  },
  {
   "cell_type": "code",
   "execution_count": null,
   "metadata": {},
   "outputs": [],
   "source": [
    "next(test_group.aggregate(dag_count_non_null_geo))"
   ]
  },
  {
   "cell_type": "markdown",
   "metadata": {},
   "source": [
    "### Group Template\n",
    "\n",
    "    { $group: { _id: <expression>, <field1>: { <accumulator1> : <expression1> }, ... } }\n",
    "    \n",
    "#### Accumulators\n",
    "\n",
    "- `$sum`\n",
    "- `$avg`\n",
    "- `$first`\n",
    "- `$last`\n",
    "- `$max`\n",
    "- `$min`\n",
    "- `$stdDevPop`\n",
    "- `$stdDevSamp`"
   ]
  },
  {
   "cell_type": "code",
   "execution_count": null,
   "metadata": {},
   "outputs": [],
   "source": [
    "greater_than_10 = { \"$gt\" : 10}\n",
    "sum_1 = { \"$sum\" : 1 }\n",
    "\n",
    "def group_and_count(key):\n",
    "    return { GROUP : {\n",
    "                 \"_id\" : key,\n",
    "                 \"count\" : sum_1\n",
    "                }\n",
    "           }\n",
    "\n",
    "match_count_gt = { MATCH : { \"count\" : greater_than_10 } }\n",
    "\n",
    "sort_by_count = { SORT : {\"count\" : -1}}\n",
    "\n",
    "def limit(val):\n",
    "    return { LIMIT : val }"
   ]
  },
  {
   "cell_type": "code",
   "execution_count": null,
   "metadata": {},
   "outputs": [],
   "source": [
    "list(test_group.aggregate(\n",
    "    [\n",
    "        group_and_count('$lang'),\n",
    "        match_count_gt, \n",
    "        sort_by_count,\n",
    "        limit(10)\n",
    "    ]\n",
    "))\n"
   ]
  },
  {
   "cell_type": "code",
   "execution_count": null,
   "metadata": {
    "scrolled": false
   },
   "outputs": [],
   "source": [
    "not_an_empty_array = { \"$ne\" : [] }\n",
    "match_non_empty_hashtag_arrays = { MATCH : { \"entities.hashtags\" : not_an_empty_array}}\n",
    "project_to_text_only = { PROJECT : { \"text\" : \"$entities.hashtags.text\", \"_id\" :0 }}\n",
    "unwind_text = { UNWIND : \"$text\" }\n",
    "\n",
    "list(test_group.aggregate(\n",
    "    [\n",
    "        match_non_empty_hashtag_arrays,\n",
    "        project_to_text_only,\n",
    "        unwind_text,\n",
    "        limit(10)\n",
    "    ]\n",
    "))\n"
   ]
  },
  {
   "cell_type": "code",
   "execution_count": null,
   "metadata": {},
   "outputs": [],
   "source": [
    "list(test_group.aggregate(\n",
    "    [\n",
    "        match_non_empty_hashtag_arrays,\n",
    "        project_to_text_only,\n",
    "        unwind_text,\n",
    "        group_and_count('$text'),\n",
    "        match_count_gt, \n",
    "        sort_by_count,\n",
    "        limit(10)\n",
    "    ]\n",
    "))"
   ]
  },
  {
   "cell_type": "code",
   "execution_count": null,
   "metadata": {},
   "outputs": [],
   "source": [
    "job_hashtags = ['job', 'jobs', 'hiring', 'careerarc']\n",
    "location_hashtags = ['california', 'losangeles', 'la', 'santamonica', 'glendale', 'paloalto']\n",
    "project_to_lower = { PROJECT : { \"text\" : {\"$toLower\" : \"$text\"} } }\n",
    "match_not_in_bad = { MATCH : { \"_id\" : { \"$nin\" : job_hashtags + location_hashtags}}}\n",
    "\n",
    "list(test_group.aggregate(\n",
    "    [\n",
    "        match_non_empty_hashtag_arrays,\n",
    "        project_to_text_only,\n",
    "        unwind_text,\n",
    "        project_to_lower,\n",
    "        group_and_count('$text'),\n",
    "        match_not_in_bad,\n",
    "        match_count_gt, \n",
    "        sort_by_count,\n",
    "        limit(50)\n",
    "    ]\n",
    "))"
   ]
  },
  {
   "cell_type": "code",
   "execution_count": null,
   "metadata": {},
   "outputs": [],
   "source": []
  }
 ],
 "metadata": {
  "kernelspec": {
   "display_name": "Python 3",
   "language": "python",
   "name": "python3"
  },
  "language_info": {
   "codemirror_mode": {
    "name": "ipython",
    "version": 3
   },
   "file_extension": ".py",
   "mimetype": "text/x-python",
   "name": "python",
   "nbconvert_exporter": "python",
   "pygments_lexer": "ipython3",
   "version": "3.6.4"
  }
 },
 "nbformat": 4,
 "nbformat_minor": 2
}
